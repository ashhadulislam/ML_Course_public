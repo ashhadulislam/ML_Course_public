{
 "cells": [
  {
   "cell_type": "markdown",
   "metadata": {},
   "source": [
    "### Functions\n",
    "\n",
    "If you are doing the same thing again and again, write a function for it"
   ]
  },
  {
   "cell_type": "markdown",
   "metadata": {},
   "source": [
    "### Syntax:\n",
    "\n",
    "def func(param1,param2,..):\n",
    "\n",
    "    \"\"\"\n",
    "    Doc String\n",
    "    \"\"\"\n",
    "    \n",
    "    Statement"
   ]
  },
  {
   "cell_type": "markdown",
   "metadata": {},
   "source": [
    "#### Example"
   ]
  },
  {
   "cell_type": "code",
   "execution_count": 1,
   "metadata": {},
   "outputs": [],
   "source": [
    "def add_2_numbers(num1,num2):\n",
    "    \"\"\"\n",
    "    This function adds two numbers\n",
    "    passed as parameters and prints\n",
    "    the sum\n",
    "    \"\"\"\n",
    "    print(num1+num2)"
   ]
  },
  {
   "cell_type": "markdown",
   "metadata": {},
   "source": [
    "#### Call the function"
   ]
  },
  {
   "cell_type": "code",
   "execution_count": 2,
   "metadata": {},
   "outputs": [
    {
     "name": "stdout",
     "output_type": "stream",
     "text": [
      "25\n"
     ]
    }
   ],
   "source": [
    "add_2_numbers(12,13)"
   ]
  },
  {
   "cell_type": "markdown",
   "metadata": {},
   "source": [
    "#### Doc String"
   ]
  },
  {
   "cell_type": "code",
   "execution_count": 4,
   "metadata": {},
   "outputs": [
    {
     "name": "stdout",
     "output_type": "stream",
     "text": [
      "\n",
      "    This function adds two numbers\n",
      "    passed as parameters and prints\n",
      "    the sum\n",
      "    \n"
     ]
    }
   ],
   "source": [
    "print(add_2_numbers.__doc__)"
   ]
  },
  {
   "cell_type": "markdown",
   "metadata": {},
   "source": [
    "#### Return values"
   ]
  },
  {
   "cell_type": "code",
   "execution_count": 12,
   "metadata": {},
   "outputs": [],
   "source": [
    "def get_sum(lst):\n",
    "    \"\"\"\n",
    "    Returns the sum og al elements in the list\n",
    "    \n",
    "    \"\"\"\n",
    "    #initialize sum\n",
    "    _sum=0\n",
    "    \n",
    "    for num in lst:\n",
    "        #running through the loop\n",
    "        _sum+=num\n",
    "    return num\n",
    "#return satatements are optional"
   ]
  },
  {
   "cell_type": "code",
   "execution_count": 13,
   "metadata": {},
   "outputs": [
    {
     "name": "stdout",
     "output_type": "stream",
     "text": [
      "89\n"
     ]
    }
   ],
   "source": [
    "list_1=[12,21,36,89]\n",
    "sum_val=get_sum(list_1)\n",
    "print(sum_val)"
   ]
  },
  {
   "cell_type": "markdown",
   "metadata": {},
   "source": [
    "#### Scope of variables\n",
    "With an example"
   ]
  },
  {
   "cell_type": "code",
   "execution_count": 14,
   "metadata": {},
   "outputs": [],
   "source": [
    "global_var=\"this is global hello\"\n",
    "def test_scope():\n",
    "    \n",
    "    local_var=\"this is local hello\"\n",
    "    print(\"In function\")\n",
    "    print(global_var)\n",
    "    print(local_var)\n",
    "    "
   ]
  },
  {
   "cell_type": "code",
   "execution_count": 15,
   "metadata": {},
   "outputs": [
    {
     "name": "stdout",
     "output_type": "stream",
     "text": [
      "calling function\n",
      "In function\n",
      "this is global hello\n",
      "this is local hello\n",
      "outside function\n",
      "this is global hello\n"
     ]
    },
    {
     "ename": "NameError",
     "evalue": "name 'local_var' is not defined",
     "output_type": "error",
     "traceback": [
      "\u001b[0;31m---------------------------------------------------------------------------\u001b[0m",
      "\u001b[0;31mNameError\u001b[0m                                 Traceback (most recent call last)",
      "\u001b[0;32m<ipython-input-15-3c1e66c53687>\u001b[0m in \u001b[0;36m<module>\u001b[0;34m\u001b[0m\n\u001b[1;32m      3\u001b[0m \u001b[0mprint\u001b[0m\u001b[0;34m(\u001b[0m\u001b[0;34m\"outside function\"\u001b[0m\u001b[0;34m)\u001b[0m\u001b[0;34m\u001b[0m\u001b[0m\n\u001b[1;32m      4\u001b[0m \u001b[0mprint\u001b[0m\u001b[0;34m(\u001b[0m\u001b[0mglobal_var\u001b[0m\u001b[0;34m)\u001b[0m\u001b[0;34m\u001b[0m\u001b[0m\n\u001b[0;32m----> 5\u001b[0;31m \u001b[0mprint\u001b[0m\u001b[0;34m(\u001b[0m\u001b[0mlocal_var\u001b[0m\u001b[0;34m)\u001b[0m\u001b[0;34m\u001b[0m\u001b[0m\n\u001b[0m",
      "\u001b[0;31mNameError\u001b[0m: name 'local_var' is not defined"
     ]
    }
   ],
   "source": [
    "print(\"calling function\")\n",
    "test_scope()\n",
    "print(\"outside function\")\n",
    "print(global_var)\n",
    "print(local_var)"
   ]
  },
  {
   "cell_type": "markdown",
   "metadata": {},
   "source": [
    "#### Python program to calculate the greatest common divisor of two numbers"
   ]
  },
  {
   "cell_type": "code",
   "execution_count": null,
   "metadata": {},
   "outputs": [],
   "source": [
    "'''\n",
    "two numbers a & b\n",
    "if b is smaller\n",
    "\n",
    "start checking from 1 till smaller number\n",
    "if variable divides both, store in hcf\n",
    "at the end print hcf\n",
    "'''\n",
    "\n"
   ]
  },
  {
   "cell_type": "code",
   "execution_count": 6,
   "metadata": {},
   "outputs": [
    {
     "name": "stdout",
     "output_type": "stream",
     "text": [
      "5\n"
     ]
    }
   ],
   "source": [
    "a=15\n",
    "b=85\n",
    "\n",
    "n=give_me_hcf(a,b)\n",
    "print(n)"
   ]
  },
  {
   "cell_type": "code",
   "execution_count": 5,
   "metadata": {},
   "outputs": [],
   "source": [
    "def give_me_hcf(a,b):\n",
    "    '''\n",
    "    this function \n",
    "    gives the \n",
    "    greatest common divisor\n",
    "    '''\n",
    "    if a<=b:\n",
    "        smaller=a\n",
    "    hcf=1\n",
    "    for i in range(1,smaller+1):\n",
    "#         print(\"testing by dividing by {}\".format(i))\n",
    "        if a%i==0 and b%i==0:\n",
    "            hcf=i\n",
    "    \n",
    "    return hcf\n",
    "            \n",
    "        \n",
    "        \n",
    "    "
   ]
  },
  {
   "cell_type": "markdown",
   "metadata": {},
   "source": [
    "#### Built-in function vs User defined function\n"
   ]
  },
  {
   "cell_type": "markdown",
   "metadata": {},
   "source": [
    "#### A. Built-in functions"
   ]
  },
  {
   "cell_type": "markdown",
   "metadata": {},
   "source": [
    "#### 1. abs()"
   ]
  },
  {
   "cell_type": "code",
   "execution_count": 16,
   "metadata": {},
   "outputs": [
    {
     "data": {
      "text/plain": [
       "21"
      ]
     },
     "execution_count": 16,
     "metadata": {},
     "output_type": "execute_result"
    }
   ],
   "source": [
    "#convert negative to positive\n",
    "abs(-21)"
   ]
  },
  {
   "cell_type": "markdown",
   "metadata": {},
   "source": [
    "#### 2. all()\n",
    "\n",
    "Iterable is any data structure on which we can itereate"
   ]
  },
  {
   "cell_type": "code",
   "execution_count": 7,
   "metadata": {},
   "outputs": [
    {
     "name": "stdout",
     "output_type": "stream",
     "text": [
      "False\n"
     ]
    }
   ],
   "source": [
    "#returns true if all elements in the iterable are True\n",
    "#else returns false\n",
    "\n",
    "lst=[True,True,False,True]\n",
    "print(all(lst))\n"
   ]
  },
  {
   "cell_type": "code",
   "execution_count": 21,
   "metadata": {},
   "outputs": [
    {
     "name": "stdout",
     "output_type": "stream",
     "text": [
      "False\n"
     ]
    }
   ],
   "source": [
    "lst=[\"abc\",\"def\",\"\"]\n",
    "print(all(lst))"
   ]
  },
  {
   "cell_type": "code",
   "execution_count": 8,
   "metadata": {},
   "outputs": [
    {
     "name": "stdout",
     "output_type": "stream",
     "text": [
      "True\n"
     ]
    }
   ],
   "source": [
    "tpl=(1,2,3)\n",
    "print(all(tpl))"
   ]
  },
  {
   "cell_type": "code",
   "execution_count": 23,
   "metadata": {},
   "outputs": [
    {
     "name": "stdout",
     "output_type": "stream",
     "text": [
      "True\n"
     ]
    }
   ],
   "source": [
    "empty_list=[]\n",
    "print(all(empty_list))"
   ]
  },
  {
   "cell_type": "markdown",
   "metadata": {},
   "source": [
    "#### 3. dir()"
   ]
  },
  {
   "cell_type": "markdown",
   "metadata": {},
   "source": [
    "returns all the attributes of the object"
   ]
  },
  {
   "cell_type": "code",
   "execution_count": 24,
   "metadata": {},
   "outputs": [
    {
     "name": "stdout",
     "output_type": "stream",
     "text": [
      "['__add__', '__class__', '__contains__', '__delattr__', '__delitem__', '__dir__', '__doc__', '__eq__', '__format__', '__ge__', '__getattribute__', '__getitem__', '__gt__', '__hash__', '__iadd__', '__imul__', '__init__', '__init_subclass__', '__iter__', '__le__', '__len__', '__lt__', '__mul__', '__ne__', '__new__', '__reduce__', '__reduce_ex__', '__repr__', '__reversed__', '__rmul__', '__setattr__', '__setitem__', '__sizeof__', '__str__', '__subclasshook__', 'append', 'clear', 'copy', 'count', 'extend', 'index', 'insert', 'pop', 'remove', 'reverse', 'sort']\n"
     ]
    }
   ],
   "source": [
    "list_numbers=[1,2,3,4]\n",
    "print(dir(list_numbers))"
   ]
  },
  {
   "cell_type": "markdown",
   "metadata": {},
   "source": [
    "#### 4. divmod()\n"
   ]
  },
  {
   "cell_type": "markdown",
   "metadata": {},
   "source": [
    "Takes two numbers and returns (quotient,remainder)"
   ]
  },
  {
   "cell_type": "code",
   "execution_count": 25,
   "metadata": {},
   "outputs": [
    {
     "name": "stdout",
     "output_type": "stream",
     "text": [
      "(3, 2)\n"
     ]
    }
   ],
   "source": [
    "print(divmod(11,3))"
   ]
  },
  {
   "cell_type": "markdown",
   "metadata": {},
   "source": [
    "#### 5. enumerate()"
   ]
  },
  {
   "cell_type": "code",
   "execution_count": 10,
   "metadata": {},
   "outputs": [
    {
     "name": "stdout",
     "output_type": "stream",
     "text": [
      "Index :0, Value :10\n",
      "Index :1, Value :20\n",
      "Index :2, Value :30\n",
      "Index :3, Value :40\n"
     ]
    }
   ],
   "source": [
    "list_numbers=[10,20,30,40]\n",
    "\n",
    "\n",
    "# for num in list_numbers:\n",
    "#     print(num)\n",
    "\n",
    "for index,num in enumerate(list_numbers):\n",
    "    print(\"Index :{}, Value :{}\".format(index, num))"
   ]
  },
  {
   "cell_type": "code",
   "execution_count": 12,
   "metadata": {},
   "outputs": [
    {
     "name": "stdout",
     "output_type": "stream",
     "text": [
      "[1, 2, 3, 4, 5, 6, 7, 8]\n",
      "[2, 4, 6, 8]\n"
     ]
    }
   ],
   "source": [
    "list_num=[1,2,3,4,5,6,7,8]\n",
    "print(list_num)\n",
    "list_even_num=[]\n",
    "for num in list_num:\n",
    "    if num%2==0:\n",
    "        list_even_num.append(num)\n",
    "\n",
    "print(list_even_num)"
   ]
  },
  {
   "cell_type": "code",
   "execution_count": null,
   "metadata": {},
   "outputs": [],
   "source": []
  },
  {
   "cell_type": "markdown",
   "metadata": {},
   "source": [
    "#### 6. filter()\n",
    "\n"
   ]
  },
  {
   "cell_type": "code",
   "execution_count": 33,
   "metadata": {},
   "outputs": [],
   "source": [
    "def find_even(num):\n",
    "    \"\"\"\n",
    "    Returns num if num is even\n",
    "    \"\"\"\n",
    "    if num%2==0:\n",
    "        return num\n"
   ]
  },
  {
   "cell_type": "code",
   "execution_count": 40,
   "metadata": {},
   "outputs": [
    {
     "name": "stdout",
     "output_type": "stream",
     "text": [
      "[0, 1, 2, 3, 4, 5, 6, 7, 8, 9, 10, 11, 12, 13, 14, 15, 16, 17, 18, 19]\n",
      "[2, 4, 6, 8, 10, 12, 14, 16, 18]\n"
     ]
    }
   ],
   "source": [
    "mixed_num_list=list(range(0,20))\n",
    "print(mixed_num_list)\n",
    "even_num_list=filter(find_even,mixed_num_list)\n",
    "print(list(even_num_list))"
   ]
  },
  {
   "cell_type": "code",
   "execution_count": 11,
   "metadata": {},
   "outputs": [
    {
     "name": "stdout",
     "output_type": "stream",
     "text": [
      "['e', 'o']\n"
     ]
    }
   ],
   "source": [
    "#more examples of filter\n",
    "alphabets=['c','b','e','t','o','p']\n",
    "vowels=['a','e','i','o','u']\n",
    "\n",
    "def filter_vowels(alphabet):\n",
    "    if alphabet in vowels:\n",
    "        return alphabet\n",
    "    \n",
    "    \n",
    "    \n",
    "    \n",
    "vowel_list=(filter(filter_vowels,alphabets))\n",
    "\n",
    "\n",
    "print(list(vowel_list))"
   ]
  },
  {
   "cell_type": "markdown",
   "metadata": {},
   "source": [
    "#### 7. isinstance()\n",
    "Check if an element is an instance of a class\n",
    "Examlpedog, cat are type of animals"
   ]
  },
  {
   "cell_type": "code",
   "execution_count": 41,
   "metadata": {},
   "outputs": [
    {
     "name": "stdout",
     "output_type": "stream",
     "text": [
      "True\n",
      "False\n"
     ]
    }
   ],
   "source": [
    "lst_1=[1,2,3,4]\n",
    "tup_1=(1,2,3,4)\n",
    "print(isinstance(lst_1,list))\n",
    "print(isinstance(tup_1,list))"
   ]
  },
  {
   "cell_type": "markdown",
   "metadata": {},
   "source": [
    "#### 8. map()"
   ]
  },
  {
   "cell_type": "code",
   "execution_count": 47,
   "metadata": {},
   "outputs": [
    {
     "name": "stdout",
     "output_type": "stream",
     "text": [
      "[1, 4, 9, 16, 25]\n"
     ]
    }
   ],
   "source": [
    "#say we have to find square of each numbers.\n",
    "numbers=[1,2,3,4,5]\n",
    "numbers_squared=[]\n",
    "\n",
    "for num in numbers:\n",
    "    numbers_squared.append(num**2)\n",
    "    \n",
    "print(numbers_squared)"
   ]
  },
  {
   "cell_type": "code",
   "execution_count": 48,
   "metadata": {},
   "outputs": [
    {
     "name": "stdout",
     "output_type": "stream",
     "text": [
      "[1, 4, 9, 16, 25]\n"
     ]
    }
   ],
   "source": [
    "# can we use list comprehension for that\n",
    "numbers_squared=[num**2 for num in numbers]\n",
    "print(numbers_squared)"
   ]
  },
  {
   "cell_type": "code",
   "execution_count": 49,
   "metadata": {},
   "outputs": [
    {
     "name": "stdout",
     "output_type": "stream",
     "text": [
      "[1, 4, 9, 16, 25]\n"
     ]
    }
   ],
   "source": [
    "#can we use map\n",
    "numbers=[1,2,3,4,5]\n",
    "\n",
    "def power_of_two(num):\n",
    "    return num**2\n",
    "\n",
    "#using map function\n",
    "numbers_squared = list(map(power_of_two,numbers))\n",
    "print(numbers_squared)"
   ]
  },
  {
   "cell_type": "code",
   "execution_count": 14,
   "metadata": {},
   "outputs": [
    {
     "name": "stdout",
     "output_type": "stream",
     "text": [
      "[2, 3, 5, 9]\n"
     ]
    }
   ],
   "source": [
    "list_floats=[2.1,3.4,5.7,9.3]\n",
    "\n",
    "def intify(num):\n",
    "    x=int(num)\n",
    "    return x\n",
    "\n",
    "\n",
    "list_ints=map(intify,list_floats)\n",
    "\n",
    "print(list(list_ints))"
   ]
  },
  {
   "cell_type": "markdown",
   "metadata": {},
   "source": [
    "#### 9. reduce()"
   ]
  },
  {
   "cell_type": "code",
   "execution_count": 11,
   "metadata": {},
   "outputs": [
    {
     "name": "stdout",
     "output_type": "stream",
     "text": [
      "1\n",
      "2\n",
      "8\n",
      "48\n",
      "384\n"
     ]
    }
   ],
   "source": [
    "#get product of all elements in a list\n",
    "list_num=[2,4,6,8]\n",
    "product = 1\n",
    "for num in list_num:\n",
    "    print(product)\n",
    "    product=product*num\n",
    "print(product)"
   ]
  },
  {
   "cell_type": "code",
   "execution_count": 12,
   "metadata": {},
   "outputs": [
    {
     "name": "stdout",
     "output_type": "stream",
     "text": [
      "20\n"
     ]
    }
   ],
   "source": [
    "#with reduce function\n",
    "from functools import reduce \n",
    "\n",
    "list_num=[2,4,6,8]\n",
    "\n",
    "def get_sum(x,y):\n",
    "    return x+y\n",
    "\n",
    "product=reduce(get_sum,list_num)\n",
    "print(product)\n",
    "\n",
    "#explain rolling computation "
   ]
  },
  {
   "cell_type": "markdown",
   "metadata": {},
   "source": [
    "#### B. User Defined Functions"
   ]
  },
  {
   "cell_type": "code",
   "execution_count": 55,
   "metadata": {},
   "outputs": [
    {
     "data": {
      "text/plain": [
       "'\\nbuild a calculator\\ntake option from user\\n1. Add\\n2. Subtract\\n3. Multiply\\n4. Divide\\nGet operator 1\\nGet operator 2\\n'"
      ]
     },
     "execution_count": 55,
     "metadata": {},
     "output_type": "execute_result"
    }
   ],
   "source": [
    "'''\n",
    "build a calculator\n",
    "take option from user\n",
    "1. Add\n",
    "2. Subtract\n",
    "3. Multiply\n",
    "4. Divide\n",
    "Get operator 1\n",
    "Get operator 2\n",
    "'''\n",
    "\n",
    "\n",
    "\n"
   ]
  },
  {
   "cell_type": "code",
   "execution_count": null,
   "metadata": {},
   "outputs": [],
   "source": []
  },
  {
   "cell_type": "code",
   "execution_count": null,
   "metadata": {},
   "outputs": [],
   "source": []
  },
  {
   "cell_type": "markdown",
   "metadata": {},
   "source": [
    "### Function Arguments"
   ]
  },
  {
   "cell_type": "code",
   "execution_count": 57,
   "metadata": {},
   "outputs": [],
   "source": [
    "def hello(name, message):\n",
    "    \"\"\"\n",
    "    This function greets a person with name and message\n",
    "    \"\"\"\n",
    "    print(\"Hello {}, {}\".format(name,message))\n",
    "    \n"
   ]
  },
  {
   "cell_type": "code",
   "execution_count": 58,
   "metadata": {},
   "outputs": [
    {
     "name": "stdout",
     "output_type": "stream",
     "text": [
      "Hello abdullah, How are you\n"
     ]
    }
   ],
   "source": [
    "hello(\"abdullah\",\"How are you\")"
   ]
  },
  {
   "cell_type": "code",
   "execution_count": 60,
   "metadata": {},
   "outputs": [
    {
     "ename": "TypeError",
     "evalue": "hello() missing 1 required positional argument: 'message'",
     "output_type": "error",
     "traceback": [
      "\u001b[0;31m---------------------------------------------------------------------------\u001b[0m",
      "\u001b[0;31mTypeError\u001b[0m                                 Traceback (most recent call last)",
      "\u001b[0;32m<ipython-input-60-c41182e6b617>\u001b[0m in \u001b[0;36m<module>\u001b[0;34m\u001b[0m\n\u001b[1;32m      5\u001b[0m '''\n\u001b[1;32m      6\u001b[0m \u001b[0;34m\u001b[0m\u001b[0m\n\u001b[0;32m----> 7\u001b[0;31m \u001b[0mhello\u001b[0m\u001b[0;34m(\u001b[0m\u001b[0;34m\"Ahmed\"\u001b[0m\u001b[0;34m)\u001b[0m\u001b[0;34m\u001b[0m\u001b[0m\n\u001b[0m",
      "\u001b[0;31mTypeError\u001b[0m: hello() missing 1 required positional argument: 'message'"
     ]
    }
   ],
   "source": [
    "'''\n",
    "suppose you want to give only name, and use a standard greeting message\n",
    "hello(\"kazi\")\n",
    "hello(\"Ahmed\")\n",
    "'''\n",
    "\n",
    "hello(\"Ahmed\")"
   ]
  },
  {
   "cell_type": "markdown",
   "metadata": {},
   "source": [
    "#### 1. Default argument"
   ]
  },
  {
   "cell_type": "code",
   "execution_count": 13,
   "metadata": {},
   "outputs": [],
   "source": [
    "def hello_new(name, message=\"Welcome to the group\"):\n",
    "    \"\"\"\n",
    "    This function greets a person with name and message\n",
    "    \"\"\"\n",
    "    print(\"Hello {}, {}\".format(name,message))\n",
    "    "
   ]
  },
  {
   "cell_type": "code",
   "execution_count": 14,
   "metadata": {},
   "outputs": [
    {
     "name": "stdout",
     "output_type": "stream",
     "text": [
      "Hello Ahmed, Welcome to the group\n",
      "Hello Abdullah, how are you\n"
     ]
    }
   ],
   "source": [
    "hello_new(\"Ahmed\")\n",
    "hello_new(\"Abdullah\",\"how are you\")"
   ]
  },
  {
   "cell_type": "code",
   "execution_count": 65,
   "metadata": {},
   "outputs": [],
   "source": [
    "# Once we have a default aargument, all the arguments to its right must have default values"
   ]
  },
  {
   "cell_type": "code",
   "execution_count": 67,
   "metadata": {},
   "outputs": [],
   "source": [
    "# What happens if we have a default argument followed by the non default argument"
   ]
  },
  {
   "cell_type": "markdown",
   "metadata": {},
   "source": [
    "#### 2. Keyword Arguments"
   ]
  },
  {
   "cell_type": "code",
   "execution_count": 68,
   "metadata": {},
   "outputs": [],
   "source": [
    "#the way of calling is different\n",
    "#hello_keyword(name=\"abdullah\",message=\"peace be upon you\")"
   ]
  },
  {
   "cell_type": "code",
   "execution_count": 69,
   "metadata": {},
   "outputs": [],
   "source": [
    "def hello_keywords(**n  ):\n",
    "    \"\"\"\n",
    "    this method greets people with\n",
    "    given parameters\n",
    "    like name and message\"\"\"\n",
    "    \n",
    "    if kwargs:\n",
    "        print(\"Hello {}, {}\".format(kwargs[\"name\"],kwargs[\"message\"]))"
   ]
  },
  {
   "cell_type": "code",
   "execution_count": 71,
   "metadata": {},
   "outputs": [
    {
     "name": "stdout",
     "output_type": "stream",
     "text": [
      "Hello abdullah, peace be upon you\n"
     ]
    }
   ],
   "source": [
    "hello_keywords(name=\"abdullah\",message=\"peace be upon you\")"
   ]
  },
  {
   "cell_type": "markdown",
   "metadata": {},
   "source": [
    "#### 3. Arbitrary arguments"
   ]
  },
  {
   "cell_type": "code",
   "execution_count": 72,
   "metadata": {},
   "outputs": [],
   "source": [
    " def hello_arbitrary(*names):\n",
    "        print(names)\n",
    "        for name in names:\n",
    "            print(\"Hello {}\".format(name))"
   ]
  },
  {
   "cell_type": "code",
   "execution_count": 73,
   "metadata": {},
   "outputs": [
    {
     "name": "stdout",
     "output_type": "stream",
     "text": [
      "('abdullah', 'ahmed', 'umar')\n",
      "Hello abdullah\n",
      "Hello ahmed\n",
      "Hello umar\n"
     ]
    }
   ],
   "source": [
    "hello_arbitrary(\"abdullah\",\"ahmed\",\"umar\")"
   ]
  },
  {
   "cell_type": "code",
   "execution_count": null,
   "metadata": {},
   "outputs": [],
   "source": []
  },
  {
   "cell_type": "markdown",
   "metadata": {},
   "source": [
    "### Recursion"
   ]
  },
  {
   "cell_type": "code",
   "execution_count": 74,
   "metadata": {},
   "outputs": [],
   "source": [
    "#find the value of factorial(5)\n",
    "#what is factorial\n",
    "#write a function to find factorial of any number"
   ]
  },
  {
   "cell_type": "code",
   "execution_count": null,
   "metadata": {},
   "outputs": [],
   "source": []
  },
  {
   "cell_type": "code",
   "execution_count": 75,
   "metadata": {},
   "outputs": [
    {
     "data": {
      "text/plain": [
       "'\\n0 1 1 2 3 5 8 13 21 34\\n'"
      ]
     },
     "execution_count": 75,
     "metadata": {},
     "output_type": "execute_result"
    }
   ],
   "source": [
    "#what about this series\n",
    "'''\n",
    "0 1 1 2 3 5 8 13 21 34\n",
    "'''"
   ]
  },
  {
   "cell_type": "code",
   "execution_count": null,
   "metadata": {},
   "outputs": [],
   "source": []
  },
  {
   "cell_type": "markdown",
   "metadata": {},
   "source": [
    "### Lambda Functions\n",
    "\n",
    "Functions defined without a name\n",
    "\n",
    "used along with map() filter() and reduce()\n"
   ]
  },
  {
   "cell_type": "code",
   "execution_count": 76,
   "metadata": {},
   "outputs": [],
   "source": [
    "def twice(num):\n",
    "    return num*2\n"
   ]
  },
  {
   "cell_type": "code",
   "execution_count": 77,
   "metadata": {},
   "outputs": [
    {
     "name": "stdout",
     "output_type": "stream",
     "text": [
      "10\n"
     ]
    }
   ],
   "source": [
    "print(twice(5))"
   ]
  },
  {
   "cell_type": "code",
   "execution_count": 78,
   "metadata": {},
   "outputs": [],
   "source": [
    "#function_name=\"lambda\" argument:output\n",
    "twice = lambda x:x*2"
   ]
  },
  {
   "cell_type": "code",
   "execution_count": 79,
   "metadata": {},
   "outputs": [
    {
     "name": "stdout",
     "output_type": "stream",
     "text": [
      "42\n"
     ]
    }
   ],
   "source": [
    "print(twice(21))"
   ]
  },
  {
   "cell_type": "code",
   "execution_count": 80,
   "metadata": {},
   "outputs": [],
   "source": [
    "product = lambda x,y:x*y"
   ]
  },
  {
   "cell_type": "code",
   "execution_count": 82,
   "metadata": {},
   "outputs": [
    {
     "name": "stdout",
     "output_type": "stream",
     "text": [
      "60\n"
     ]
    }
   ],
   "source": [
    "print(product(12,5))"
   ]
  },
  {
   "cell_type": "code",
   "execution_count": 83,
   "metadata": {},
   "outputs": [
    {
     "name": "stdout",
     "output_type": "stream",
     "text": [
      "[0, 1, 2, 3, 4, 5, 6, 7, 8, 9, 10, 11, 12, 13, 14, 15, 16, 17, 18, 19]\n",
      "[2, 4, 6, 8, 10, 12, 14, 16, 18]\n"
     ]
    }
   ],
   "source": [
    "# example: the filter function\n",
    "def find_even(num):\n",
    "    \"\"\"\n",
    "    Returns num if num is even\n",
    "    \"\"\"\n",
    "    if num%2==0:\n",
    "        return num\n",
    "\n",
    "    \n",
    "mixed_num_list=list(range(0,20))\n",
    "print(mixed_num_list)\n",
    "even_num_list=filter(find_even,mixed_num_list)\n",
    "print(list(even_num_list))"
   ]
  },
  {
   "cell_type": "code",
   "execution_count": 84,
   "metadata": {},
   "outputs": [
    {
     "name": "stdout",
     "output_type": "stream",
     "text": [
      "[2, 4, 6, 8, 10]\n"
     ]
    }
   ],
   "source": [
    "#perform the same using lambda function\n",
    "list_num=[1, 2, 3, 4, 5, 6, 7, 8, 9, 10, 11]\n",
    "new_list=list(filter(lambda x: (x%2==0),list_num))\n",
    "print(new_list)"
   ]
  },
  {
   "cell_type": "code",
   "execution_count": 3,
   "metadata": {},
   "outputs": [
    {
     "name": "stdout",
     "output_type": "stream",
     "text": [
      "[100, 400, 900, 1600, 2500]\n"
     ]
    }
   ],
   "source": [
    "# example use with map()\n",
    "list_num=[10,20,30,40,50]\n",
    "mapped_list=list(map(lambda x:x**2, list_num))\n",
    "print(mapped_list)"
   ]
  },
  {
   "cell_type": "code",
   "execution_count": 4,
   "metadata": {},
   "outputs": [
    {
     "name": "stdout",
     "output_type": "stream",
     "text": [
      "12000000\n"
     ]
    }
   ],
   "source": [
    "#example use with reduce()\n",
    "from functools import reduce\n",
    "\n",
    "list_num=[10,20,30,40,50]\n",
    "product_lst=reduce(lambda x,y:x*y,list_num)\n",
    "print(product_lst)"
   ]
  },
  {
   "cell_type": "code",
   "execution_count": null,
   "metadata": {},
   "outputs": [],
   "source": []
  }
 ],
 "metadata": {
  "kernelspec": {
   "display_name": "python_classes_kernel",
   "language": "python",
   "name": "python_classes_kernel"
  },
  "language_info": {
   "codemirror_mode": {
    "name": "ipython",
    "version": 3
   },
   "file_extension": ".py",
   "mimetype": "text/x-python",
   "name": "python",
   "nbconvert_exporter": "python",
   "pygments_lexer": "ipython3",
   "version": "3.6.5"
  }
 },
 "nbformat": 4,
 "nbformat_minor": 2
}
