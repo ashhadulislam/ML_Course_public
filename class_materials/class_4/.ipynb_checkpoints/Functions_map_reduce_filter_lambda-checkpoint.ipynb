{
 "cells": [
  {
   "cell_type": "code",
   "execution_count": null,
   "metadata": {},
   "outputs": [],
   "source": [
    "n=5\n",
    "n=n%2\n",
    "n=n+1\n",
    "print(n)\n",
    "k=15\n",
    "k=k%0\n",
    "k=k+1\n",
    "print(k)"
   ]
  },
  {
   "cell_type": "code",
   "execution_count": null,
   "metadata": {},
   "outputs": [],
   "source": [
    "def do_this_thing(var):\n",
    "    var=var%2\n",
    "    var=var+1\n",
    "    return var"
   ]
  }
 ],
 "metadata": {
  "kernelspec": {
   "display_name": "python_classes_kernel",
   "language": "python",
   "name": "python_classes_kernel"
  },
  "language_info": {
   "codemirror_mode": {
    "name": "ipython",
    "version": 3
   },
   "file_extension": ".py",
   "mimetype": "text/x-python",
   "name": "python",
   "nbconvert_exporter": "python",
   "pygments_lexer": "ipython3",
   "version": "3.6.5"
  }
 },
 "nbformat": 4,
 "nbformat_minor": 2
}
