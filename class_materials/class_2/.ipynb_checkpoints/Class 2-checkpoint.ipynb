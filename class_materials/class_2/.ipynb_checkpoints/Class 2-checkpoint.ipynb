{
 "cells": [
  {
   "cell_type": "markdown",
   "metadata": {},
   "source": [
    "### Control Flow\n"
   ]
  },
  {
   "cell_type": "markdown",
   "metadata": {},
   "source": [
    "#### Find the largest of three numbers"
   ]
  },
  {
   "cell_type": "code",
   "execution_count": 4,
   "metadata": {},
   "outputs": [
    {
     "name": "stdout",
     "output_type": "stream",
     "text": [
      "Largest number is  200\n"
     ]
    }
   ],
   "source": [
    "num1 = 100\n",
    "num2 = 200\n",
    "num3 = 1\n",
    "\n",
    "if (num1>=num2) and (num1 >= num3):\n",
    "    largest=num1\n",
    "elif (num2>=num1) and (num2 >= num3):\n",
    "    largest=num2\n",
    "elif (num3>=num1) and (num3 >= num2):\n",
    "    largest=num3\n",
    "print(\"Largest number is \", largest)"
   ]
  },
  {
   "cell_type": "markdown",
   "metadata": {},
   "source": [
    "### while loop"
   ]
  },
  {
   "cell_type": "markdown",
   "metadata": {},
   "source": [
    "#### Syntax:\n",
    "while test_expression:\n",
    "\n",
    "    Body of while\n"
   ]
  },
  {
   "cell_type": "markdown",
   "metadata": {},
   "source": [
    "#### Example"
   ]
  },
  {
   "cell_type": "code",
   "execution_count": 1,
   "metadata": {},
   "outputs": [
    {
     "name": "stdout",
     "output_type": "stream",
     "text": [
      "Total sum is 65\n"
     ]
    }
   ],
   "source": [
    "#find the sum of all numbers present in the list\n",
    "\n",
    "lst=[2,13,21,19,10]\n",
    "\n",
    "sum_list=0\n",
    "indx=0\n",
    "\n",
    "while indx < len(lst):\n",
    "    sum_list=sum_list+lst[indx]\n",
    "    indx+=1\n",
    "\n",
    "print(\"Total sum is {}\".format(sum_list))\n"
   ]
  },
  {
   "cell_type": "markdown",
   "metadata": {},
   "source": [
    "#### While loop with else "
   ]
  },
  {
   "cell_type": "code",
   "execution_count": 7,
   "metadata": {},
   "outputs": [
    {
     "name": "stdout",
     "output_type": "stream",
     "text": [
      "2\n",
      "13\n",
      "21\n",
      "19\n",
      "10\n",
      "Items finished in the list. Index is 5\n"
     ]
    }
   ],
   "source": [
    "lst=[2,13,21,19,10]\n",
    "\n",
    "indx=0\n",
    "\n",
    "while indx<len(lst):\n",
    "    print(lst[indx])\n",
    "    indx+=1\n",
    "else:\n",
    "    print(\"Items finished in the list. Index is {}\".format(indx))\n"
   ]
  },
  {
   "cell_type": "code",
   "execution_count": null,
   "metadata": {},
   "outputs": [],
   "source": [
    "# what happens if we forget to increase the index\n",
    "lst=[2,13,21,19,10]\n",
    "\n",
    "indx=0\n",
    "\n",
    "while indx<len(lst):\n",
    "    print(lst[indx])\n",
    "#     indx+=1\n",
    "else:\n",
    "    print(\"Items finished in the list. Index is {}\".format(indx))\n"
   ]
  },
  {
   "cell_type": "markdown",
   "metadata": {},
   "source": [
    "#### Program to check if a number is prime"
   ]
  },
  {
   "cell_type": "code",
   "execution_count": 11,
   "metadata": {},
   "outputs": [
    {
     "name": "stdout",
     "output_type": "stream",
     "text": [
      "Enter a number1\n",
      "1 is a prime number\n"
     ]
    }
   ],
   "source": [
    "num=int(input(\"Enter a number\"))\n",
    "\n",
    "div=2\n",
    "isDivisibe=False\n",
    "\n",
    "while div<num:\n",
    "    if num%div==0:\n",
    "        isDivisibe=True\n",
    "    div+=1\n",
    "    \n",
    "if isDivisibe:\n",
    "    print(\"{} is not a prime number\".format(num))\n",
    "else:\n",
    "    print(\"{} is a prime number\".format(num))"
   ]
  },
  {
   "cell_type": "markdown",
   "metadata": {},
   "source": [
    "### Python For Loop\n",
    "\n",
    "Used to iterate over sequence/lists\n",
    "\n",
    "for element in sequence:\n",
    "    \n",
    "    body of For"
   ]
  },
  {
   "cell_type": "code",
   "execution_count": 13,
   "metadata": {},
   "outputs": [
    {
     "name": "stdout",
     "output_type": "stream",
     "text": [
      "Sum is 150 \n"
     ]
    }
   ],
   "source": [
    "#find the sum of numbers in a list\n",
    "lst=[21,12,13,14,90]\n",
    "sum_list=0\n",
    "\n",
    "for element in lst:\n",
    "    sum_list+=element\n",
    "    \n",
    "print(\"Sum is {} \".format(sum_list))"
   ]
  },
  {
   "cell_type": "markdown",
   "metadata": {},
   "source": [
    "#### range() function\n",
    "\n",
    "We can generate a sequence of numbers using range() fuction.\n",
    "\n",
    "range(10) will generate numbers from 0 to 9. Therefore 10 numbers"
   ]
  },
  {
   "cell_type": "code",
   "execution_count": 14,
   "metadata": {},
   "outputs": [
    {
     "name": "stdout",
     "output_type": "stream",
     "text": [
      "0\n",
      "1\n",
      "2\n",
      "3\n",
      "4\n",
      "5\n",
      "6\n",
      "7\n",
      "8\n",
      "9\n"
     ]
    }
   ],
   "source": [
    "#print range of 10\n",
    "for i in range(10):\n",
    "    print(i)"
   ]
  },
  {
   "cell_type": "code",
   "execution_count": 15,
   "metadata": {},
   "outputs": [
    {
     "name": "stdout",
     "output_type": "stream",
     "text": [
      "1\n",
      "3\n",
      "5\n",
      "7\n",
      "9\n",
      "11\n",
      "13\n",
      "15\n",
      "17\n",
      "19\n"
     ]
    }
   ],
   "source": [
    "# print range of numbers from 1 to 20, eith increment of 2\n",
    "for i in range(1,20,2):\n",
    "    print(i)"
   ]
  },
  {
   "cell_type": "code",
   "execution_count": 16,
   "metadata": {},
   "outputs": [],
   "source": [
    "#Apply the range function to iterate through list\n",
    "fruit_list=[\"mango\",\"apple\",\"banana\",\"grapes\"]"
   ]
  },
  {
   "cell_type": "code",
   "execution_count": 17,
   "metadata": {},
   "outputs": [],
   "source": [
    "#what are the two ways we can print this list"
   ]
  },
  {
   "cell_type": "code",
   "execution_count": null,
   "metadata": {},
   "outputs": [],
   "source": []
  },
  {
   "cell_type": "code",
   "execution_count": null,
   "metadata": {},
   "outputs": [],
   "source": []
  },
  {
   "cell_type": "markdown",
   "metadata": {},
   "source": [
    "#### for loop with else"
   ]
  },
  {
   "cell_type": "code",
   "execution_count": 18,
   "metadata": {},
   "outputs": [
    {
     "name": "stdout",
     "output_type": "stream",
     "text": [
      "12\n",
      "21\n",
      "13\n",
      "no items are left\n"
     ]
    }
   ],
   "source": [
    "vals=[12,21,13]\n",
    "for val in vals:\n",
    "    print(val)\n",
    "else:\n",
    "    print('no items are left')\n",
    "    "
   ]
  },
  {
   "cell_type": "markdown",
   "metadata": {},
   "source": [
    "#### Code to display all prime numbers between an interval"
   ]
  },
  {
   "cell_type": "code",
   "execution_count": null,
   "metadata": {},
   "outputs": [],
   "source": [
    "#should contain a nested for loop"
   ]
  },
  {
   "cell_type": "code",
   "execution_count": null,
   "metadata": {},
   "outputs": [],
   "source": []
  },
  {
   "cell_type": "code",
   "execution_count": null,
   "metadata": {},
   "outputs": [],
   "source": []
  },
  {
   "cell_type": "markdown",
   "metadata": {},
   "source": [
    "#### Example of continue"
   ]
  },
  {
   "cell_type": "code",
   "execution_count": 19,
   "metadata": {},
   "outputs": [],
   "source": [
    "#print odd numbers presnt in a list"
   ]
  },
  {
   "cell_type": "code",
   "execution_count": 20,
   "metadata": {},
   "outputs": [],
   "source": [
    "#use continue"
   ]
  },
  {
   "cell_type": "code",
   "execution_count": null,
   "metadata": {},
   "outputs": [],
   "source": []
  },
  {
   "cell_type": "code",
   "execution_count": 21,
   "metadata": {},
   "outputs": [],
   "source": [
    "#print if a number is prime"
   ]
  },
  {
   "cell_type": "code",
   "execution_count": null,
   "metadata": {},
   "outputs": [],
   "source": [
    "#use break"
   ]
  }
 ],
 "metadata": {
  "kernelspec": {
   "display_name": "python_classes_kernel",
   "language": "python",
   "name": "python_classes_kernel"
  },
  "language_info": {
   "codemirror_mode": {
    "name": "ipython",
    "version": 3
   },
   "file_extension": ".py",
   "mimetype": "text/x-python",
   "name": "python",
   "nbconvert_exporter": "python",
   "pygments_lexer": "ipython3",
   "version": "3.6.5"
  }
 },
 "nbformat": 4,
 "nbformat_minor": 2
}
