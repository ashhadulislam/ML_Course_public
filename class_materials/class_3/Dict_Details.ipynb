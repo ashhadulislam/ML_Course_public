{
 "cells": [
  {
   "cell_type": "markdown",
   "metadata": {},
   "source": [
    "### Dictionary\n",
    "\n",
    "A hash table\n",
    "\n",
    "Data is stored as <key,value>\n",
    "\n",
    "Unordered collection of items"
   ]
  },
  {
   "cell_type": "markdown",
   "metadata": {},
   "source": [
    "#### Create dict"
   ]
  },
  {
   "cell_type": "code",
   "execution_count": 5,
   "metadata": {},
   "outputs": [
    {
     "name": "stdout",
     "output_type": "stream",
     "text": [
      "Empty dict looks like this {}\n",
      "simple dict is {1: 'abc', 2: 'def'}\n",
      "mixed dict is {'name': 'John', 'marks': [80, 75, 99]}\n",
      "Dictionary obtained from tuples {1: 'Python', 2: 'Data_Science'}\n"
     ]
    }
   ],
   "source": [
    "#empty dict\n",
    "dict_1={}\n",
    "print(\"Empty dict looks like this {}\".format(dict_1))\n",
    "\n",
    "#dict with integer keys\n",
    "dict_1={1:\"abc\", 2:\"def\"}\n",
    "print(\"simple dict is {}\".format(dict_1))\n",
    "\n",
    "#dict with mixed keys\n",
    "dict_1={'name':\"John\", \"marks\":[80,75,99]}\n",
    "print(\"mixed dict is {}\".format(dict_1))\n",
    "\n",
    "# create empty dict using dict()\n",
    "dict_1=dict()\n",
    "\n",
    "#create a dict with list of tuples\n",
    "dict_1=dict([(1,'Python'),(2,'Data_Science')])\n",
    "print(\"Dictionary obtained from tuples {}\".format(dict_1))\n"
   ]
  },
  {
   "cell_type": "markdown",
   "metadata": {},
   "source": [
    "#### Acccessing Data from dict"
   ]
  },
  {
   "cell_type": "code",
   "execution_count": 6,
   "metadata": {},
   "outputs": [
    {
     "name": "stdout",
     "output_type": "stream",
     "text": [
      "Abdullah\n"
     ]
    }
   ],
   "source": [
    "dict_1={\"name\":\"Abdullah\",\"class\":\"X\",\"Location\":\"Delhi\"}\n",
    "print(dict_1[\"name\"])"
   ]
  },
  {
   "cell_type": "code",
   "execution_count": 8,
   "metadata": {},
   "outputs": [
    {
     "ename": "KeyError",
     "evalue": "'marks'",
     "output_type": "error",
     "traceback": [
      "\u001b[0;31m---------------------------------------------------------------------------\u001b[0m",
      "\u001b[0;31mKeyError\u001b[0m                                  Traceback (most recent call last)",
      "\u001b[0;32m<ipython-input-8-90aa3a1d36e1>\u001b[0m in \u001b[0;36m<module>\u001b[0;34m\u001b[0m\n\u001b[1;32m      1\u001b[0m \u001b[0;31m# if key is absent\u001b[0m\u001b[0;34m\u001b[0m\u001b[0;34m\u001b[0m\u001b[0m\n\u001b[0;32m----> 2\u001b[0;31m \u001b[0mprint\u001b[0m\u001b[0;34m(\u001b[0m\u001b[0mdict_1\u001b[0m\u001b[0;34m[\u001b[0m\u001b[0;34m\"marks\"\u001b[0m\u001b[0;34m]\u001b[0m\u001b[0;34m)\u001b[0m\u001b[0;34m\u001b[0m\u001b[0m\n\u001b[0m",
      "\u001b[0;31mKeyError\u001b[0m: 'marks'"
     ]
    }
   ],
   "source": [
    "# if key is absent\n",
    "print(dict_1[\"marks\"])"
   ]
  },
  {
   "cell_type": "code",
   "execution_count": 9,
   "metadata": {},
   "outputs": [
    {
     "name": "stdout",
     "output_type": "stream",
     "text": [
      "X\n"
     ]
    }
   ],
   "source": [
    "#get() function\n",
    "print(dict_1.get(\"class\"))"
   ]
  },
  {
   "cell_type": "code",
   "execution_count": 10,
   "metadata": {},
   "outputs": [
    {
     "name": "stdout",
     "output_type": "stream",
     "text": [
      "None\n"
     ]
    }
   ],
   "source": [
    "print(dict_1.get(\"marks\"))"
   ]
  },
  {
   "cell_type": "code",
   "execution_count": 11,
   "metadata": {},
   "outputs": [],
   "source": [
    "# difference between get and []"
   ]
  },
  {
   "cell_type": "markdown",
   "metadata": {},
   "source": [
    "#### Modifying dict"
   ]
  },
  {
   "cell_type": "code",
   "execution_count": 12,
   "metadata": {},
   "outputs": [
    {
     "name": "stdout",
     "output_type": "stream",
     "text": [
      "{'name': 'Ahmed', 'class': 'X', 'Location': 'Delhi'}\n"
     ]
    }
   ],
   "source": [
    "dict_1={\"name\":\"Abdullah\",\"class\":\"X\",\"Location\":\"Delhi\"}\n",
    "\n",
    "#change name\n",
    "dict_1[\"name\"]=\"Ahmed\"\n",
    "\n",
    "print(dict_1)"
   ]
  },
  {
   "cell_type": "code",
   "execution_count": 13,
   "metadata": {},
   "outputs": [
    {
     "name": "stdout",
     "output_type": "stream",
     "text": [
      "Dict after adding {'name': 'Ahmed', 'class': 'X', 'Location': 'Delhi', 'marks': [90, 80, 98]}\n"
     ]
    }
   ],
   "source": [
    "# add a new key\n",
    "dict_1[\"marks\"]=[90,80,98]\n",
    "\n",
    "print(\"Dict after adding {}\".format(dict_1))"
   ]
  },
  {
   "cell_type": "code",
   "execution_count": 14,
   "metadata": {},
   "outputs": [
    {
     "name": "stdout",
     "output_type": "stream",
     "text": [
      "Before popping {'name': 'Abdullah', 'class': 'X', 'Location': 'Delhi'}\n",
      "popped element is X\n",
      "After popping, dict is {'name': 'Abdullah', 'Location': 'Delhi'}\n"
     ]
    }
   ],
   "source": [
    "# deleting a key value pair\n",
    "#using pop\n",
    "\n",
    "dict_1={\"name\":\"Abdullah\",\"class\":\"X\",\"Location\":\"Delhi\"}\n",
    "print(\"Before popping {}\".format(dict_1))\n",
    "\n",
    "print(\"popped element is {}\".format(dict_1.pop(\"class\")))\n",
    "\n",
    "print(\"After popping, dict is {}\".format(dict_1))\n",
    "      \n",
    "      \n"
   ]
  },
  {
   "cell_type": "code",
   "execution_count": 16,
   "metadata": {},
   "outputs": [
    {
     "name": "stdout",
     "output_type": "stream",
     "text": [
      "Before random  popping {'name': 'Abdullah', 'class': 'X', 'Location': 'Delhi'}\n",
      "random popped element is ('Location', 'Delhi')\n",
      "After random popping, dict is {'name': 'Abdullah', 'class': 'X'}\n"
     ]
    }
   ],
   "source": [
    "#random remove\n",
    "# using popitem()\n",
    "\n",
    "dict_1={\"name\":\"Abdullah\",\"class\":\"X\",\"Location\":\"Delhi\"}\n",
    "print(\"Before random  popping {}\".format(dict_1))\n",
    "\n",
    "print(\"random popped element is {}\".format(dict_1.popitem()))\n",
    "\n",
    "print(\"After random popping, dict is {}\".format(dict_1))\n",
    "      \n"
   ]
  },
  {
   "cell_type": "code",
   "execution_count": 17,
   "metadata": {},
   "outputs": [
    {
     "name": "stdout",
     "output_type": "stream",
     "text": [
      "After deleting, dict is {'class': 'X', 'Location': 'Delhi'}\n"
     ]
    }
   ],
   "source": [
    "#using del\n",
    "dict_1={\"name\":\"Abdullah\",\"class\":\"X\",\"Location\":\"Delhi\"}\n",
    "del dict_1[\"name\"]\n",
    "print(\"After deleting, dict is {}\".format(dict_1))"
   ]
  },
  {
   "cell_type": "code",
   "execution_count": 18,
   "metadata": {},
   "outputs": [
    {
     "name": "stdout",
     "output_type": "stream",
     "text": [
      "After clearing dict {}\n"
     ]
    }
   ],
   "source": [
    "# deleting all items\n",
    "dict_1={\"name\":\"Abdullah\",\"class\":\"X\",\"Location\":\"Delhi\"}\n",
    "\n",
    "dict_1.clear()\n",
    "\n",
    "print(\"After clearing dict {}\".format(dict_1))"
   ]
  },
  {
   "cell_type": "code",
   "execution_count": 19,
   "metadata": {},
   "outputs": [
    {
     "ename": "NameError",
     "evalue": "name 'dict_1' is not defined",
     "output_type": "error",
     "traceback": [
      "\u001b[0;31m---------------------------------------------------------------------------\u001b[0m",
      "\u001b[0;31mNameError\u001b[0m                                 Traceback (most recent call last)",
      "\u001b[0;32m<ipython-input-19-06ae0966e936>\u001b[0m in \u001b[0;36m<module>\u001b[0;34m\u001b[0m\n\u001b[1;32m      6\u001b[0m \u001b[0;34m\u001b[0m\u001b[0m\n\u001b[1;32m      7\u001b[0m \u001b[0;34m\u001b[0m\u001b[0m\n\u001b[0;32m----> 8\u001b[0;31m \u001b[0mprint\u001b[0m\u001b[0;34m(\u001b[0m\u001b[0mdict_1\u001b[0m\u001b[0;34m)\u001b[0m\u001b[0;34m\u001b[0m\u001b[0m\n\u001b[0m",
      "\u001b[0;31mNameError\u001b[0m: name 'dict_1' is not defined"
     ]
    }
   ],
   "source": [
    "# delete the dictionary itself\n",
    "\n",
    "dict_1={\"name\":\"Abdullah\",\"class\":\"X\",\"Location\":\"Delhi\"}\n",
    "\n",
    "del dict_1\n",
    "\n",
    "\n",
    "print(dict_1)"
   ]
  },
  {
   "cell_type": "markdown",
   "metadata": {},
   "source": [
    "#### Dictionary methods"
   ]
  },
  {
   "cell_type": "code",
   "execution_count": 20,
   "metadata": {},
   "outputs": [
    {
     "name": "stdout",
     "output_type": "stream",
     "text": [
      "{'name': 'Abdullah', 'class': 'X', 'Location': 'Delhi'}\n"
     ]
    }
   ],
   "source": [
    "dict_1={\"name\":\"Abdullah\",\"class\":\"X\",\"Location\":\"Delhi\"}\n",
    "dict_1_copy=dict_1.copy()\n",
    "print(dict_1_copy)"
   ]
  },
  {
   "cell_type": "code",
   "execution_count": 22,
   "metadata": {},
   "outputs": [
    {
     "name": "stdout",
     "output_type": "stream",
     "text": [
      "{'Math': 0, 'Physics': 0, 'Chemistry': 0}\n"
     ]
    }
   ],
   "source": [
    "#creation of dict - different way\n",
    "marks_dict={}.fromkeys([\"Math\",\"Physics\",\"Chemistry\"],0)\n",
    "print(marks_dict)"
   ]
  },
  {
   "cell_type": "code",
   "execution_count": 40,
   "metadata": {},
   "outputs": [
    {
     "name": "stdout",
     "output_type": "stream",
     "text": [
      "dict_items([('name', 'Abdullah'), ('class', 'X'), ('Location', 'Delhi')])\n"
     ]
    }
   ],
   "source": [
    "dict_1={\"name\":\"Abdullah\",\"class\":\"X\",\"Location\":\"Delhi\"}\n",
    "print(dict_1.items())\n",
    "#returns all key,value pair as tuples"
   ]
  },
  {
   "cell_type": "code",
   "execution_count": 45,
   "metadata": {},
   "outputs": [
    {
     "name": "stdout",
     "output_type": "stream",
     "text": [
      "dict_keys(['name', 'class', 'Location'])\n"
     ]
    }
   ],
   "source": [
    "dict_1={\"name\":\"Abdullah\",\"class\":\"X\",\"Location\":\"Delhi\"}\n",
    "print(dict_1.keys())"
   ]
  },
  {
   "cell_type": "code",
   "execution_count": 46,
   "metadata": {},
   "outputs": [
    {
     "name": "stdout",
     "output_type": "stream",
     "text": [
      "dict_values(['Abdullah', 'X', 'Delhi'])\n"
     ]
    }
   ],
   "source": [
    "print(dict_1.values())"
   ]
  },
  {
   "cell_type": "code",
   "execution_count": 61,
   "metadata": {},
   "outputs": [
    {
     "name": "stdout",
     "output_type": "stream",
     "text": [
      "['__class__', '__contains__', '__delattr__', '__delitem__', '__dir__', '__doc__', '__eq__', '__format__', '__ge__', '__getattribute__', '__getitem__', '__gt__', '__hash__', '__init__', '__init_subclass__', '__iter__', '__le__', '__len__', '__lt__', '__ne__', '__new__', '__reduce__', '__reduce_ex__', '__repr__', '__setattr__', '__setitem__', '__sizeof__', '__str__', '__subclasshook__', 'clear', 'copy', 'fromkeys', 'get', 'items', 'keys', 'pop', 'popitem', 'setdefault', 'update', 'values']\n"
     ]
    }
   ],
   "source": [
    "dict_1={}\n",
    "#get all functions and attributes of dict\n",
    "print((dir(dict_1)))\n"
   ]
  },
  {
   "cell_type": "markdown",
   "metadata": {},
   "source": [
    "#### Dict comprehension"
   ]
  },
  {
   "cell_type": "code",
   "execution_count": 66,
   "metadata": {},
   "outputs": [
    {
     "name": "stdout",
     "output_type": "stream",
     "text": [
      "name\n",
      "class\n",
      "Location\n",
      "going to print key value paors as tuples \n",
      "('name', 'Abdullah')\n",
      "('class', 'X')\n",
      "('Location', 'Delhi')\n"
     ]
    }
   ],
   "source": [
    "dict_1={\"name\":\"Abdullah\",\"class\":\"X\",\"Location\":\"Delhi\"}\n",
    "\n",
    "\n",
    "for element in dict_1:\n",
    "    print(element)\n",
    "    \n",
    "print(\"going to print key value paors as tuples \")\n",
    "# want to print the key - value pairs as tuples\n",
    "for element in dict_1.items():\n",
    "    print(element)\n"
   ]
  },
  {
   "cell_type": "code",
   "execution_count": 67,
   "metadata": {},
   "outputs": [
    {
     "name": "stdout",
     "output_type": "stream",
     "text": [
      "name -> Abdullah\n",
      "class -> X\n",
      "Location -> Delhi\n"
     ]
    }
   ],
   "source": [
    "for key,value in dict_1.items():\n",
    "    print(\"{} -> {}\".format(key,value))"
   ]
  },
  {
   "cell_type": "code",
   "execution_count": 70,
   "metadata": {},
   "outputs": [
    {
     "name": "stdout",
     "output_type": "stream",
     "text": [
      "Filtered dict is{'maths_high': 98, 'physics_high': 89}\n"
     ]
    }
   ],
   "source": [
    "dict_1={\"history\":60,\"maths\":98,\"english\":78,\"physics\":89}\n",
    "#creating a dictionary from an existing dictionary, with some conditions\n",
    "# get only marks of subjects more than 80\n",
    "\n",
    "dict_2={k+\"_high\":v for (k,v)in dict_1.items() if v>80}\n",
    "\n",
    "print(\"Filtered dict is{}\".format(dict_2))"
   ]
  },
  {
   "cell_type": "code",
   "execution_count": 73,
   "metadata": {},
   "outputs": [
    {
     "name": "stdout",
     "output_type": "stream",
     "text": [
      "marks out of 50\n",
      "history -> 30\n",
      "maths -> 49\n",
      "english -> 39\n",
      "physics -> 44\n",
      "After getting percentage {'history_percentage': '60%', 'maths_percentage': '98%', 'english_percentage': '78%', 'physics_percentage': '88%'}\n"
     ]
    }
   ],
   "source": [
    "#perform operations on key value pairs\n",
    "dict_1={\"history\":30,\"maths\":49,\"english\":39,\"physics\":44}\n",
    "\n",
    "print(\"marks out of 50\")\n",
    "\n",
    "for key,value in dict_1.items():\n",
    "    print(\"{} -> {}\".format(key,value))\n",
    "\n",
    "    \n",
    "dict_1={k+\"_percentage\":str(v*2)+\"%\" for k,v in dict_1.items()}\n",
    "\n",
    "print(\"After getting percentage {}\".format(dict_1))"
   ]
  }
 ],
 "metadata": {
  "kernelspec": {
   "display_name": "python_classes_kernel",
   "language": "python",
   "name": "python_classes_kernel"
  },
  "language_info": {
   "codemirror_mode": {
    "name": "ipython",
    "version": 3
   },
   "file_extension": ".py",
   "mimetype": "text/x-python",
   "name": "python",
   "nbconvert_exporter": "python",
   "pygments_lexer": "ipython3",
   "version": "3.6.5"
  }
 },
 "nbformat": 4,
 "nbformat_minor": 2
}
