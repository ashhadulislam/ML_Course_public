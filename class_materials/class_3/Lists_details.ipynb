{
 "cells": [
  {
   "cell_type": "markdown",
   "metadata": {},
   "source": [
    "### Lists\n"
   ]
  },
  {
   "cell_type": "markdown",
   "metadata": {},
   "source": [
    "Stores collection of items\n",
    "\n",
    "May contain lists in lists\n",
    "\n",
    "Values can be changed\n",
    "\n",
    "Values are stored at indices"
   ]
  },
  {
   "cell_type": "markdown",
   "metadata": {},
   "source": [
    "#### Creation of list"
   ]
  },
  {
   "cell_type": "code",
   "execution_count": 42,
   "metadata": {},
   "outputs": [],
   "source": [
    "\n",
    "blank_list=[]\n",
    "\n",
    "list_1=['one','two','three','four']\n",
    "\n",
    "list_2=['1','2','3','4']\n",
    "\n",
    "list_of_lists=[[1,2],[3,4]]\n",
    "\n",
    "list_diff_types=[1,\"2\",\"three\",4.0]"
   ]
  },
  {
   "cell_type": "markdown",
   "metadata": {},
   "source": [
    "#### Length Of list"
   ]
  },
  {
   "cell_type": "code",
   "execution_count": 3,
   "metadata": {},
   "outputs": [
    {
     "data": {
      "text/plain": [
       "3"
      ]
     },
     "execution_count": 3,
     "metadata": {},
     "output_type": "execute_result"
    }
   ],
   "source": [
    "#length of list\n",
    "\n",
    "list_1=[\"one\",2,\"three\"]\n",
    "len(list_1)"
   ]
  },
  {
   "cell_type": "markdown",
   "metadata": {},
   "source": [
    "#### Appending to list"
   ]
  },
  {
   "cell_type": "code",
   "execution_count": 4,
   "metadata": {},
   "outputs": [
    {
     "name": "stdout",
     "output_type": "stream",
     "text": [
      "['one', 2, 'three', 4]\n"
     ]
    }
   ],
   "source": [
    "#appending to list\n",
    "list_1.append(4)\n",
    "print(list_1)"
   ]
  },
  {
   "cell_type": "markdown",
   "metadata": {},
   "source": [
    "#### Inserting"
   ]
  },
  {
   "cell_type": "code",
   "execution_count": 5,
   "metadata": {},
   "outputs": [
    {
     "name": "stdout",
     "output_type": "stream",
     "text": [
      "[1, 2, 3, 4]\n"
     ]
    }
   ],
   "source": [
    "#adding item in the list at different positions\n",
    "list_1=[1,2,4]\n",
    "list_1.insert(2,3)\n",
    "print(list_1)"
   ]
  },
  {
   "cell_type": "markdown",
   "metadata": {},
   "source": [
    "#### Remove element from List"
   ]
  },
  {
   "cell_type": "code",
   "execution_count": 6,
   "metadata": {},
   "outputs": [
    {
     "name": "stdout",
     "output_type": "stream",
     "text": [
      "[1, 2, 3, 4, 5]\n"
     ]
    }
   ],
   "source": [
    "#removing an item from list\n",
    "\n",
    "list_1=[1,5,2,3,4,5]\n",
    "list_1.remove(5)\n",
    "print(list_1)\n"
   ]
  },
  {
   "cell_type": "code",
   "execution_count": 13,
   "metadata": {},
   "outputs": [
    {
     "name": "stdout",
     "output_type": "stream",
     "text": [
      "[1, 2, 3, 4, 5]\n",
      "Values popped is 2\n",
      "After popping list is [1, 2, 3, 4, 5]\n"
     ]
    }
   ],
   "source": [
    "# removing an item from list based on the index position\n",
    "\n",
    "# using del\n",
    "list_1=[1,2,3,4,5,2]\n",
    "del(list_1[5])\n",
    "print(list_1)\n",
    "\n",
    "list_1=[1,2,3,4,5,2]\n",
    "#using pop\n",
    "popped_val=list_1.pop(5)\n",
    "print(\"Values popped is {}\".format(popped_val))\n",
    "print(\"After popping list is {}\".format(list_1))"
   ]
  },
  {
   "cell_type": "markdown",
   "metadata": {},
   "source": [
    "#### Add elements to list"
   ]
  },
  {
   "cell_type": "code",
   "execution_count": 10,
   "metadata": {},
   "outputs": [
    {
     "name": "stdout",
     "output_type": "stream",
     "text": [
      "list_1 is [1, 2, 3, [4, 5, 6]]\n",
      "list_2 is [4, 5, 6]\n"
     ]
    }
   ],
   "source": [
    "# list append and extend\n",
    "# append\n",
    "list_1=[ 1,2,3]\n",
    "list_2=[4,5,6]\n",
    "list_1.append(list_2)\n",
    "\n",
    "print(\"list_1 is {}\".format(list_1))\n",
    "print(\"list_2 is {}\".format(list_2))"
   ]
  },
  {
   "cell_type": "code",
   "execution_count": 11,
   "metadata": {},
   "outputs": [
    {
     "name": "stdout",
     "output_type": "stream",
     "text": [
      "list_1 is [1, 2, 3, 4, 5, 6]\n",
      "list_2 is [4, 5, 6]\n"
     ]
    }
   ],
   "source": [
    "# extend\n",
    "list_1=[ 1,2,3]\n",
    "list_2=[4,5,6]\n",
    "list_1.extend(list_2)\n",
    "\n",
    "print(\"list_1 is {}\".format(list_1))\n",
    "print(\"list_2 is {}\".format(list_2))"
   ]
  },
  {
   "cell_type": "markdown",
   "metadata": {},
   "source": [
    "#### Extend list using +"
   ]
  },
  {
   "cell_type": "code",
   "execution_count": 45,
   "metadata": {},
   "outputs": [
    {
     "name": "stdout",
     "output_type": "stream",
     "text": [
      "Extended list using + is [1, 2, 3, 'one', 'two', 'three']\n"
     ]
    }
   ],
   "source": [
    "list_1=[1,2,3]\n",
    "list_2=[\"one\",\"two\",\"three\"]\n",
    "\n",
    "new_list=list_1+list_2\n",
    "print(\"Extended list using + is {}\".format(new_list))"
   ]
  },
  {
   "cell_type": "markdown",
   "metadata": {},
   "source": [
    "#### List operations\n",
    "\n",
    "#### Check if element is in list"
   ]
  },
  {
   "cell_type": "code",
   "execution_count": 15,
   "metadata": {},
   "outputs": [
    {
     "name": "stdout",
     "output_type": "stream",
     "text": [
      "One is in the list\n",
      "Bird is not there in the list\n"
     ]
    }
   ],
   "source": [
    "# to check if an element is in a list\n",
    "list_1=[1,2,3,4,5,6]\n",
    "\n",
    "if 1 in list_1:\n",
    "    print(\"One is in the list\")\n",
    "    \n",
    "list_2=[\"cat\",\"dog\",\"mouse\"]\n",
    "\n",
    "if \"bird\" not in list_2:\n",
    "    print(\"Bird is not there in the list\")\n"
   ]
  },
  {
   "cell_type": "markdown",
   "metadata": {},
   "source": [
    "#### Reverese a List"
   ]
  },
  {
   "cell_type": "code",
   "execution_count": 16,
   "metadata": {},
   "outputs": [
    {
     "name": "stdout",
     "output_type": "stream",
     "text": [
      "[1, 2, 3, 4]\n"
     ]
    }
   ],
   "source": [
    "list_1=[4,3,2,1]\n",
    "list_1.reverse()\n",
    "\n",
    "print(list_1)"
   ]
  },
  {
   "cell_type": "markdown",
   "metadata": {},
   "source": [
    "#### Sorting a list"
   ]
  },
  {
   "cell_type": "code",
   "execution_count": 17,
   "metadata": {},
   "outputs": [
    {
     "name": "stdout",
     "output_type": "stream",
     "text": [
      "Unsorted list: [30, 12, 5, 1, 9]\n",
      "Sorted list: [1, 5, 9, 12, 30]\n"
     ]
    }
   ],
   "source": [
    "list_1=[30,12,5,1,9]\n",
    "sorted_list_1=sorted(list_1)\n",
    "\n",
    "print(\"Unsorted list: {}\".format(list_1))\n",
    "print(\"Sorted list: {}\".format(sorted_list_1))"
   ]
  },
  {
   "cell_type": "code",
   "execution_count": 18,
   "metadata": {},
   "outputs": [
    {
     "name": "stdout",
     "output_type": "stream",
     "text": [
      "Reverse sorted List: [30, 12, 9, 5, 1]\n"
     ]
    }
   ],
   "source": [
    "# sort in reverse order\n",
    "reverse_sorted_list=sorted(list_1,reverse=True)\n",
    "print(\"Reverse sorted List: {}\".format(reverse_sorted_list))"
   ]
  },
  {
   "cell_type": "code",
   "execution_count": 20,
   "metadata": {},
   "outputs": [
    {
     "name": "stdout",
     "output_type": "stream",
     "text": [
      "After sorting:[1, 2, 4.2, 4.5, 6.9, 7]\n"
     ]
    }
   ],
   "source": [
    "#sort the list in place\n",
    "list_1=[2,4.5,1,4.2,6.9,7]\n",
    "\n",
    "list_1.sort()\n",
    "\n",
    "print(\"After sorting:{}\".format(list_1))"
   ]
  },
  {
   "cell_type": "code",
   "execution_count": 21,
   "metadata": {},
   "outputs": [
    {
     "ename": "TypeError",
     "evalue": "'<' not supported between instances of 'str' and 'float'",
     "output_type": "error",
     "traceback": [
      "\u001b[0;31m---------------------------------------------------------------------------\u001b[0m",
      "\u001b[0;31mTypeError\u001b[0m                                 Traceback (most recent call last)",
      "\u001b[0;32m<ipython-input-21-2a102fd72d23>\u001b[0m in \u001b[0;36m<module>\u001b[0;34m\u001b[0m\n\u001b[1;32m      1\u001b[0m \u001b[0mlist_1\u001b[0m\u001b[0;34m=\u001b[0m\u001b[0;34m[\u001b[0m\u001b[0;36m21\u001b[0m\u001b[0;34m,\u001b[0m\u001b[0;36m9.9\u001b[0m\u001b[0;34m,\u001b[0m\u001b[0;34m\"abc\"\u001b[0m\u001b[0;34m,\u001b[0m\u001b[0;34m\"def\"\u001b[0m\u001b[0;34m]\u001b[0m\u001b[0;34m\u001b[0m\u001b[0m\n\u001b[0;32m----> 2\u001b[0;31m \u001b[0mprint\u001b[0m\u001b[0;34m(\u001b[0m\u001b[0mlist_1\u001b[0m\u001b[0;34m.\u001b[0m\u001b[0msort\u001b[0m\u001b[0;34m(\u001b[0m\u001b[0;34m)\u001b[0m\u001b[0;34m)\u001b[0m\u001b[0;34m\u001b[0m\u001b[0m\n\u001b[0m",
      "\u001b[0;31mTypeError\u001b[0m: '<' not supported between instances of 'str' and 'float'"
     ]
    }
   ],
   "source": [
    "list_1=[21,9.9,\"abc\",\"def\"]\n",
    "print(list_1.sort())"
   ]
  },
  {
   "cell_type": "code",
   "execution_count": 26,
   "metadata": {},
   "outputs": [
    {
     "name": "stdout",
     "output_type": "stream",
     "text": [
      "['apples', 'mangoes', 'oranges', 'pineapples']\n"
     ]
    }
   ],
   "source": [
    "list_1=[\"apples\",\"oranges\",\"mangoes\",\"pineapples\"]\n",
    "\n",
    "list_1.sort()\n",
    "\n",
    "print(list_1)"
   ]
  },
  {
   "cell_type": "code",
   "execution_count": 27,
   "metadata": {},
   "outputs": [
    {
     "name": "stdout",
     "output_type": "stream",
     "text": [
      "None\n",
      "['apples', 'mangoes', 'oranges', 'pineapples']\n"
     ]
    }
   ],
   "source": [
    "list_1=[\"apples\",\"oranges\",\"mangoes\",\"pineapples\"]\n",
    "\n",
    "print(list_1.sort())\n",
    "\n",
    "list_1=[\"apples\",\"oranges\",\"mangoes\",\"pineapples\"]\n",
    "\n",
    "sorted_list_1=sorted(list_1)\n",
    "print(sorted_list_1)"
   ]
  },
  {
   "cell_type": "markdown",
   "metadata": {},
   "source": [
    "#### List having multiple references"
   ]
  },
  {
   "cell_type": "code",
   "execution_count": 28,
   "metadata": {},
   "outputs": [
    {
     "name": "stdout",
     "output_type": "stream",
     "text": [
      "The Original list is [1, 2, 3, 4, 5, 6]\n"
     ]
    }
   ],
   "source": [
    "list_1=[1,2,3,4,5]\n",
    "new_list=list_1\n",
    "new_list.append(6)\n",
    "\n",
    "print(\"The Original list is {}\".format(list_1))"
   ]
  },
  {
   "cell_type": "markdown",
   "metadata": {},
   "source": [
    "#### Convert string to list of words"
   ]
  },
  {
   "cell_type": "code",
   "execution_count": 29,
   "metadata": {},
   "outputs": [
    {
     "name": "stdout",
     "output_type": "stream",
     "text": [
      "['One', 'two', 'three', 'four', 'dive']\n"
     ]
    }
   ],
   "source": [
    "sentence=\"One,two,three,four,dive\"\n",
    "sent_list=sentence.split(',')\n",
    "print(sent_list)"
   ]
  },
  {
   "cell_type": "code",
   "execution_count": 30,
   "metadata": {},
   "outputs": [
    {
     "name": "stdout",
     "output_type": "stream",
     "text": [
      "['Mary', 'had', 'a', 'little', 'lamb']\n"
     ]
    }
   ],
   "source": [
    "sentence=\"Mary had a little lamb\"\n",
    "sent_list=sentence.split()\n",
    "print(sent_list)"
   ]
  },
  {
   "cell_type": "markdown",
   "metadata": {},
   "source": [
    "#### List Indexing"
   ]
  },
  {
   "cell_type": "code",
   "execution_count": 34,
   "metadata": {},
   "outputs": [
    {
     "name": "stdout",
     "output_type": "stream",
     "text": [
      "3\n",
      "4\n",
      "3\n"
     ]
    }
   ],
   "source": [
    "list_1=[1,2,3,4]\n",
    "\n",
    "#print 3rd element\n",
    "print(list_1[2])\n",
    "\n",
    "#print the last element\n",
    "print(list_1[-1])\n",
    "\n",
    "#print the second last element\n",
    "print(list_1[-2])"
   ]
  },
  {
   "cell_type": "markdown",
   "metadata": {},
   "source": [
    "#### Slicing a list"
   ]
  },
  {
   "cell_type": "code",
   "execution_count": 39,
   "metadata": {},
   "outputs": [
    {
     "name": "stdout",
     "output_type": "stream",
     "text": [
      "[1, 2, 3, 4, 5, 6, 7, 8, 9]\n",
      "[1, 2, 3, 4, 5, 6, 7, 8, 9]\n",
      "[1, 2, 3, 4, 5]\n"
     ]
    }
   ],
   "source": [
    "list_1=[1,2,3,4,5,6,7,8,9]\n",
    "\n",
    "#print all the numbers in the list\n",
    "print(list_1)\n",
    "print(list_1[:])\n",
    "\n",
    "#print numbers from 1st position to 5th position\n",
    "print(list_1[0:5])"
   ]
  },
  {
   "cell_type": "code",
   "execution_count": 41,
   "metadata": {},
   "outputs": [
    {
     "name": "stdout",
     "output_type": "stream",
     "text": [
      "[1, 3, 5, 7, 9]\n",
      "[2, 4, 6, 8]\n"
     ]
    }
   ],
   "source": [
    "#print alternate numbers\n",
    "list_1=[1,2,3,4,5,6,7,8,9]\n",
    "#[start:end:stepsize]\n",
    "print(list_1[::2])\n",
    "\n",
    "#print alternate numbers starting from 2nd position\n",
    "print(list_1[1::2])\n"
   ]
  },
  {
   "cell_type": "markdown",
   "metadata": {},
   "source": [
    "#### Count elements inlist"
   ]
  },
  {
   "cell_type": "code",
   "execution_count": 49,
   "metadata": {},
   "outputs": [
    {
     "name": "stdout",
     "output_type": "stream",
     "text": [
      "One occurs 1 number of times\n"
     ]
    }
   ],
   "source": [
    "list_1=[1,2,3,1,2,3,4,5,1,2,3]\n",
    "count_of_num=list_1.count(4)\n",
    "\n",
    "print(\"One occurs {} number of times\".format(count_of_num))"
   ]
  },
  {
   "cell_type": "markdown",
   "metadata": {},
   "source": [
    "#### Looping through a list"
   ]
  },
  {
   "cell_type": "code",
   "execution_count": 53,
   "metadata": {},
   "outputs": [],
   "source": [
    "list_1=[11,12,13,14,15]\n",
    "\n"
   ]
  },
  {
   "cell_type": "code",
   "execution_count": 54,
   "metadata": {},
   "outputs": [
    {
     "name": "stdout",
     "output_type": "stream",
     "text": [
      "0\n",
      "1\n",
      "2\n",
      "3\n",
      "4\n"
     ]
    }
   ],
   "source": [
    "#conventional method\n",
    "for i in range(0,len(list_1)):\n",
    "    print(i)"
   ]
  },
  {
   "cell_type": "code",
   "execution_count": 56,
   "metadata": {},
   "outputs": [
    {
     "name": "stdout",
     "output_type": "stream",
     "text": [
      "0 11\n",
      "1 12\n",
      "2 13\n",
      "3 14\n",
      "4 15\n"
     ]
    }
   ],
   "source": [
    "for i in range(0,len(list_1)):\n",
    "    print(i,list_1[i])"
   ]
  },
  {
   "cell_type": "code",
   "execution_count": 57,
   "metadata": {},
   "outputs": [
    {
     "name": "stdout",
     "output_type": "stream",
     "text": [
      "11\n",
      "12\n",
      "13\n",
      "14\n",
      "15\n"
     ]
    }
   ],
   "source": [
    "#elegant method\n",
    "for elem in list_1:\n",
    "    print(elem)"
   ]
  },
  {
   "cell_type": "markdown",
   "metadata": {},
   "source": [
    "#### Nested Lists\n"
   ]
  },
  {
   "cell_type": "code",
   "execution_count": 8,
   "metadata": {},
   "outputs": [
    {
     "name": "stdout",
     "output_type": "stream",
     "text": [
      "This nested list is [[1, 2, 3], 'numbers', [4.1, 5.3, 6.9]]\n"
     ]
    }
   ],
   "source": [
    "'''\n",
    "[\n",
    "[1,2,3],\n",
    "\"numbers\",\n",
    "[4.1,5.3,6.9]\n",
    "]\n",
    "'''\n",
    "\n",
    "list_1=[[1,2,3],\"numbers\",[4.1,5.3,6.9]]\n",
    "print(\"This nested list is {}\".format(list_1))"
   ]
  },
  {
   "cell_type": "code",
   "execution_count": 9,
   "metadata": {},
   "outputs": [
    {
     "name": "stdout",
     "output_type": "stream",
     "text": [
      "[1, 2, 3]\n",
      "numbers\n",
      "[4.1, 5.3, 6.9]\n"
     ]
    }
   ],
   "source": [
    "#accessing elements from a nested list\n",
    "print(list_1[0])\n",
    "print(list_1[1])\n",
    "print(list_1[2])"
   ]
  },
  {
   "cell_type": "code",
   "execution_count": 11,
   "metadata": {},
   "outputs": [
    {
     "name": "stdout",
     "output_type": "stream",
     "text": [
      "This list within list representation is [[10, 11, 12], [13, 14, 15], [16, 17, 18]]\n"
     ]
    }
   ],
   "source": [
    "# for a nested list of numbers\n",
    "'''\n",
    "[\n",
    "[10,11,12],\n",
    "[13,14,15],\n",
    "[16,17,18]\n",
    "\n",
    "]\n",
    "'''\n",
    "\n",
    "list_1=[[10,11,12],[13,14,15],[16,17,18]]\n",
    "\n",
    "print(\"This list within list representation is {}\".format(list_1))"
   ]
  },
  {
   "cell_type": "code",
   "execution_count": null,
   "metadata": {},
   "outputs": [],
   "source": [
    "#print the element at 0,0\n",
    "#print()"
   ]
  },
  {
   "cell_type": "code",
   "execution_count": null,
   "metadata": {},
   "outputs": [],
   "source": [
    "#print all elements of the list"
   ]
  },
  {
   "cell_type": "code",
   "execution_count": null,
   "metadata": {},
   "outputs": [],
   "source": []
  },
  {
   "cell_type": "markdown",
   "metadata": {},
   "source": [
    "#### Special ways of creating list"
   ]
  },
  {
   "cell_type": "code",
   "execution_count": 58,
   "metadata": {},
   "outputs": [
    {
     "name": "stdout",
     "output_type": "stream",
     "text": [
      "[0, 1, 4, 9, 16, 25, 36, 49, 64, 81]\n"
     ]
    }
   ],
   "source": [
    "# create a list of squares\n",
    "#[0,1,4,9,16,25....]\n",
    "\n",
    "square_values=[]\n",
    "for i in range(10):\n",
    "    square_values.append(i**2)\n",
    "    \n",
    "print(square_values)"
   ]
  },
  {
   "cell_type": "code",
   "execution_count": 60,
   "metadata": {},
   "outputs": [
    {
     "name": "stdout",
     "output_type": "stream",
     "text": [
      "[0, 1, 4, 9, 16, 25, 36, 49, 64, 81]\n"
     ]
    }
   ],
   "source": [
    "#using list comprehension\n",
    "square_values=[i**2 for i in range(10)]\n",
    "print(square_values)"
   ]
  },
  {
   "cell_type": "code",
   "execution_count": 63,
   "metadata": {},
   "outputs": [
    {
     "name": "stdout",
     "output_type": "stream",
     "text": [
      "[1, 4, 9, 16]\n",
      "[1, 4, 9, 16]\n"
     ]
    }
   ],
   "source": [
    "list_1=[-1,-2,-3,-4]\n",
    "\n",
    "#can we get a list containing the squares of each values\n",
    "list_1_squared=[list_1[i]**2 for i in range(len(list_1))]\n",
    "print(list_1_squared)\n",
    "\n",
    "#using the elegant for loop\n",
    "list_1_squared=[val**2 for val in list_1]\n",
    "print(list_1_squared)"
   ]
  },
  {
   "cell_type": "code",
   "execution_count": 65,
   "metadata": {},
   "outputs": [
    {
     "name": "stdout",
     "output_type": "stream",
     "text": [
      "[2, 4, 6, 8]\n"
     ]
    }
   ],
   "source": [
    "list_1=[1,2,3,4,5,6,7,8,9]\n",
    "#can we get only even numbers from list_1\n",
    "even_list=[val for val in list_1 if val%2==0]\n",
    "print(even_list)"
   ]
  },
  {
   "cell_type": "code",
   "execution_count": 67,
   "metadata": {},
   "outputs": [
    {
     "name": "stdout",
     "output_type": "stream",
     "text": [
      "[(1, 1), (2, 8), (3, 27), (4, 64), (5, 125)]\n"
     ]
    }
   ],
   "source": [
    "# create a list of tuples (number, cube of number)\n",
    "list_1=[1,2,3,4,5]\n",
    "\n",
    "list_tpl=[]\n",
    "#the conventional way\n",
    "for val in list_1:\n",
    "    list_tpl.append((val,val**3))\n",
    "print(list_tpl)\n",
    "    "
   ]
  },
  {
   "cell_type": "code",
   "execution_count": 68,
   "metadata": {},
   "outputs": [
    {
     "name": "stdout",
     "output_type": "stream",
     "text": [
      "[(1, 1), (2, 8), (3, 27), (4, 64), (5, 125)]\n"
     ]
    }
   ],
   "source": [
    "# the list comprehension way\n",
    "list_1=[1,2,3,4,5]\n",
    "list_tpl=[(val,val**3) for val in list_1]\n",
    "print(list_tpl)"
   ]
  },
  {
   "cell_type": "code",
   "execution_count": 76,
   "metadata": {},
   "outputs": [
    {
     "name": "stdout",
     "output_type": "stream",
     "text": [
      "Going to append [0, 1, 2] row\n",
      "Going to append [3, 4, 5] row\n",
      "Going to append [6, 7, 8] row\n"
     ]
    }
   ],
   "source": [
    "# create a 2 dimensional matrix\n",
    "'''\n",
    "0,1,2\n",
    "3,4,5\n",
    "6.7,8\n",
    "'''\n",
    "\n",
    "'''\n",
    "matrix should look like this\n",
    "[\n",
    "[0, 1, 2],\n",
    "[3, 4, 5],\n",
    "[6, 7, 8]\n",
    "]\n",
    "'''\n",
    "#creating the matrix in\n",
    "#the old way\n",
    "matrix=[]\n",
    "for i in range(3):\n",
    "    row_of_matrix=[]\n",
    "    for j in range(3):\n",
    "        row_of_matrix.append(j+3*i)\n",
    "    print(\"Going to append {} row\".format(row_of_matrix))\n",
    "    matrix.append(row_of_matrix)"
   ]
  },
  {
   "cell_type": "code",
   "execution_count": 79,
   "metadata": {},
   "outputs": [
    {
     "name": "stdout",
     "output_type": "stream",
     "text": [
      "[[0, 1, 2], [3, 4, 5], [6, 7, 8]]\n"
     ]
    }
   ],
   "source": [
    "print(matrix)"
   ]
  },
  {
   "cell_type": "code",
   "execution_count": 78,
   "metadata": {},
   "outputs": [],
   "source": [
    "#creating the same matrix with list comprehension\n",
    "matrix_comp=[[(j+3*i) for j in range(3)]for i in range(3)]"
   ]
  },
  {
   "cell_type": "code",
   "execution_count": 80,
   "metadata": {},
   "outputs": [
    {
     "name": "stdout",
     "output_type": "stream",
     "text": [
      "[[0, 1, 2], [3, 4, 5], [6, 7, 8]]\n"
     ]
    }
   ],
   "source": [
    "print(matrix_comp)"
   ]
  },
  {
   "cell_type": "code",
   "execution_count": 85,
   "metadata": {},
   "outputs": [
    {
     "name": "stdout",
     "output_type": "stream",
     "text": [
      "The transposed matrix is [[1, 4, 7], [2, 5, 8], [3, 6, 9], [4, 7, 10]]\n"
     ]
    }
   ],
   "source": [
    "#transpose of a matrix\n",
    "'''\n",
    "1, 2, 3, 4\n",
    "4, 5, 6, 7\n",
    "7, 8, 9, 10\n",
    "\n",
    "\n",
    "transpose of the matrix becomes\n",
    "1, 4, 7\n",
    "2, 5, 8\n",
    "3, 6, 9\n",
    "4, 7, 10\n",
    "\n",
    "'''\n",
    "\n",
    "my_matrix=[\n",
    "    [1,2,3,4],\n",
    "    [4,5,6,7],\n",
    "    [7,8,9,10]\n",
    "]\n",
    "\n",
    "trans_matrix=[]\n",
    "\n",
    "for i in range(4):\n",
    "    this_row=[]\n",
    "    for j in range(3):\n",
    "        this_row.append(my_matrix[j][i])\n",
    "    trans_matrix.append(this_row)\n",
    "\n",
    "\n",
    "print(\"The transposed matrix is {}\".format(trans_matrix))\n"
   ]
  },
  {
   "cell_type": "code",
   "execution_count": 86,
   "metadata": {},
   "outputs": [],
   "source": [
    "my_matrix=[\n",
    "    [1,2,3,4],\n",
    "    [4,5,6,7],\n",
    "    [7,8,9,10]\n",
    "]\n",
    "\n",
    "trans_matrix = [[ row[i] for row in my_matrix]for i in range(4)]"
   ]
  },
  {
   "cell_type": "code",
   "execution_count": 87,
   "metadata": {},
   "outputs": [
    {
     "name": "stdout",
     "output_type": "stream",
     "text": [
      "[[1, 4, 7], [2, 5, 8], [3, 6, 9], [4, 7, 10]]\n"
     ]
    }
   ],
   "source": [
    "print(trans_matrix)"
   ]
  },
  {
   "cell_type": "code",
   "execution_count": null,
   "metadata": {},
   "outputs": [],
   "source": []
  }
 ],
 "metadata": {
  "kernelspec": {
   "display_name": "python_classes_kernel",
   "language": "python",
   "name": "python_classes_kernel"
  },
  "language_info": {
   "codemirror_mode": {
    "name": "ipython",
    "version": 3
   },
   "file_extension": ".py",
   "mimetype": "text/x-python",
   "name": "python",
   "nbconvert_exporter": "python",
   "pygments_lexer": "ipython3",
   "version": "3.6.5"
  }
 },
 "nbformat": 4,
 "nbformat_minor": 2
}
